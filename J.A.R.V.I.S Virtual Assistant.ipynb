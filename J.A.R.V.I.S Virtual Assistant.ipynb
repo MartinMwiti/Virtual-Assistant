{
 "cells": [
  {
   "cell_type": "code",
   "execution_count": null,
   "metadata": {},
   "outputs": [],
   "source": [
    "from gtts import gTTS\n",
    "import speech_recognition as sr\n",
    "import os\n",
    "import webbrowser\n",
    "import smtplib\n",
    "\n",
    "def talkToMe(audio):\n",
    "    print(audio)\n",
    "    tts = gTTS(text = audio, lang= 'en')\n",
    "    tts.save('audio.mp3')\n",
    "    os.system('mpg123 audio.mp3')\n",
    "    \n",
    "#Listen for commands\n",
    "def myCommand():\n",
    "    r = sr.Recognizer()\n",
    "    with sr.Microphone() as source:\n",
    "        print('I am ready for your next command')\n",
    "        r.pause_threshold = 1\n",
    "        r.adjust_for_ambient_noise(source, duration=1)\n",
    "        audio = r.listen(source)\n",
    "    try:\n",
    "        command = r.recognize_google(audio)\n",
    "        print('You Said:' +command+ '/n')\n",
    "        #Loop back to continue to listen for commands\n",
    "    except sr.UnknownValueError:\n",
    "        assistant(myCommand())\n",
    "    return command\n",
    "\n",
    "#If Statements for executing commands\n",
    "def assistant(command):\n",
    "    if 'Open Github' in command:\n",
    "        chrome_path = \"C:\\Program Files (x86)\\Google\\Chrome\\Application\"\n",
    "        url = 'https://github.com/MartinMwiti'\n",
    "        webbrowser.get(chrome_path).open(url)\n",
    "        \n",
    "    if 'What\\'s Up' in command:\n",
    "        talkToMe('I\\'m most excellent, Martin')\n",
    "        \n",
    "    if 'JARVIS' in command:\n",
    "        talkToMe ('Are you Martin?, if yes, How are you doing Martin')\n",
    "        \n",
    "talkToMe('I am ready for your command')\n",
    "\n",
    "while True:\n",
    "    assistant(myCommand())"
   ]
  }
 ],
 "metadata": {
  "kernelspec": {
   "display_name": "Python 3",
   "language": "python",
   "name": "python3"
  },
  "language_info": {
   "codemirror_mode": {
    "name": "ipython",
    "version": 3
   },
   "file_extension": ".py",
   "mimetype": "text/x-python",
   "name": "python",
   "nbconvert_exporter": "python",
   "pygments_lexer": "ipython3",
   "version": "3.7.3"
  }
 },
 "nbformat": 4,
 "nbformat_minor": 2
}
